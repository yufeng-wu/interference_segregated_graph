{
  "nbformat": 4,
  "nbformat_minor": 0,
  "metadata": {
    "colab": {
      "provenance": []
    },
    "kernelspec": {
      "name": "python3",
      "display_name": "Python 3"
    },
    "language_info": {
      "name": "python"
    }
  },
  "cells": [
    {
      "cell_type": "code",
      "source": [
        "import numpy as np\n",
        "import pandas as pd\n",
        "from scipy.optimize import minimize\n",
        "import networkx as nx\n",
        "import random"
      ],
      "metadata": {
        "id": "oUX7yMKm6N6n"
      },
      "execution_count": null,
      "outputs": []
    },
    {
      "cell_type": "code",
      "execution_count": null,
      "metadata": {
        "id": "Sx_TH9qR1TNt"
      },
      "outputs": [],
      "source": [
        "def ricf_three_vars(L1, L2, L3, num_iter, var, max_degree_of_network):\n",
        "    '''\n",
        "    RICF stands for Residual Iterative Conditional Fitting, a method\n",
        "    from the paper \"Computing maximum likelihood estimates in recursive\n",
        "    linear models with correlated errors\" by Drton, Eichler, and Richardson.\n",
        "    RICF is used to estimate the covariance matrix of a graphical model\n",
        "    that specifies a multivariate normal distribution.\n",
        "\n",
        "    This function estimates the covariance matrix of the joint distribution\n",
        "    L1 <-> L2 <-> L3 (and also the edge L1 <-> L3),\n",
        "    which is assumed to be generated from a multivariate normal distribution.\n",
        "\n",
        "    Args:\n",
        "        L1: a list of n independent realizations of L1.\n",
        "        L2: a list of n independent realizations of L2.\n",
        "        L3: a list of n independent realizations of L3.\n",
        "        max_iter: number of iterations to run the optimization.\n",
        "        var: the estimated, shared variance of L1, L2, and L3.\n",
        "             var(L1) = var(L2) = var(L3) is by assumption.\n",
        "        max_degree_of_network: largest degree among all vertices in the network.\n",
        "            We need this information to ensure diagonal dominance throughout\n",
        "            the optimization process, which is a sufficient condition for the\n",
        "            positive definiteness of the estimated covariance matrix.\n",
        "\n",
        "    Returns:\n",
        "        A 2x2 numpy array representing the estimated covariance matrix of the\n",
        "        joint distribution L1 <-> L2.\n",
        "    '''\n",
        "\n",
        "    def least_squares_loss(params, L, Z, var_index):\n",
        "        n, d = L.shape\n",
        "        params = list(params) * (d) # d x 1 vector, with same param repeated d times\n",
        "        params = np.array(params)\n",
        "        return 0.5 / n * np.linalg.norm(L[:, var_index] - np.dot(Z, params)) ** 2\n",
        "\n",
        "    # de-mean every variable to get epsilons\n",
        "    eps_L1 = L1 - np.mean(L1)\n",
        "    eps_L2 = L2 - np.mean(L2)\n",
        "    eps_L3 = L3 - np.mean(L3)\n",
        "\n",
        "    L_df = pd.DataFrame({'L1': eps_L1, 'L2': eps_L2, 'L3': eps_L3})\n",
        "\n",
        "    # random guess for cov mat\n",
        "    # all these \"0.0\" are initial guesses and are shared parameters\n",
        "    cov_mat = np.array([[var, 0.0, 0.0],\n",
        "                        [0.0, var, 0.0],\n",
        "                        [0.0, 0.0, var]])\n",
        "\n",
        "    for _ in range(num_iter):\n",
        "        for var_index in [0, 2]: # TODO: [0, 2]?\n",
        "            omega = cov_mat.copy()\n",
        "            omega_minusi = np.delete(omega, var_index, axis=0)\n",
        "            omega_minusii = np.delete(omega_minusi, var_index, axis=1)\n",
        "            omega_minusii_inv = np.linalg.inv(omega_minusii)\n",
        "\n",
        "            epsilon = L_df.values\n",
        "            epsilon_minusi = np.delete(epsilon, var_index, axis=1)\n",
        "\n",
        "            Z_minusi = epsilon_minusi @ omega_minusii_inv.T\n",
        "            Z = np.insert(Z_minusi, var_index, 0, axis=1)\n",
        "\n",
        "            # bounds are to ensure positive definiteness of the covariance matrix\n",
        "            # of the MVN that specify the joint distribution of p(L),\n",
        "            # and we also add/minus a small constant in case the rounding goes\n",
        "            # the wrong way\n",
        "            bound = (-var/float(max_degree_of_network) + 1e-10,\n",
        "                      var/float(max_degree_of_network) - 1e-10)\n",
        "\n",
        "            # getting the solution from five random initializations\n",
        "            # and pick the one with the smallest loss\n",
        "            best_solution = None\n",
        "            best_loss = np.inf\n",
        "            for _ in range(5):\n",
        "                # minimize by first setting a random start within the bounds\n",
        "                sol = minimize(least_squares_loss,\n",
        "                               x0=np.random.uniform(low=bound[0], high=bound[1], size=1), # a vector of size 1 because there's only 1 free param\n",
        "                               args=(L_df.values, Z, var_index),\n",
        "                               method='L-BFGS-B',\n",
        "                               bounds=[bound])\n",
        "                if sol.fun < best_loss:\n",
        "                    best_loss = sol.fun\n",
        "                    best_solution = sol\n",
        "\n",
        "            # update covariance matrix according to the best solution\n",
        "            # ORIGINAL LINE: cov_mat[:, var_index] = cov_mat[var_index, :] = best_solution.x[0]\n",
        "            # ASK ROHIT: SHOULD I BE UPADTING EVERY (SHARED) PARAMETER IN cov_mat?\n",
        "            # a mask for non-diagonal elements\n",
        "            mask = ~np.eye(cov_mat.shape[0], dtype=bool)\n",
        "            cov_mat[mask] = best_solution.x[0]\n",
        "\n",
        "            # this is a trivial update for graphs with only bidirected edges\n",
        "            cov_mat[0, 0] = cov_mat[1, 1] = var\n",
        "\n",
        "    return cov_mat"
      ]
    },
    {
      "cell_type": "code",
      "source": [
        "true_cov_mat = np.array([[2, 0.8, 0.8],\n",
        "                         [0.8, 2, 0.8],\n",
        "                         [0.8, 0.8, 2]])\n",
        "L = np.random.multivariate_normal([0,0,0], true_cov_mat, size=100000)\n",
        "L1 = L[:,0]\n",
        "L2 = L[:,1]\n",
        "L3 = L[:,2]\n",
        "print(np.var(L1), np.var(L2), np.var(L3))"
      ],
      "metadata": {
        "colab": {
          "base_uri": "https://localhost:8080/"
        },
        "id": "rz9Ar16h5Hwp",
        "outputId": "2a26a913-8c19-4f97-92ae-67a6825dfea3"
      },
      "execution_count": null,
      "outputs": [
        {
          "output_type": "stream",
          "name": "stdout",
          "text": [
            "2.0035273486400897 1.9951242170948238 2.0202328880778464\n"
          ]
        }
      ]
    },
    {
      "cell_type": "code",
      "source": [
        "ricf_three_vars(L1, L2, L3, 20, 2, 2)"
      ],
      "metadata": {
        "colab": {
          "base_uri": "https://localhost:8080/"
        },
        "id": "PBU2kmPZ6RcY",
        "outputId": "d110deae-78d3-4ccf-ba44-0a8dd8209273"
      },
      "execution_count": null,
      "outputs": [
        {
          "output_type": "execute_result",
          "data": {
            "text/plain": [
              "array([[2.        , 0.80354466, 0.80354466],\n",
              "       [0.80354466, 2.        , 0.80354466],\n",
              "       [0.80354466, 0.80354466, 2.        ]])"
            ]
          },
          "metadata": {},
          "execution_count": 4
        }
      ]
    },
    {
      "cell_type": "code",
      "source": [
        "# thoughts\n",
        "# pass in an adjacency matrix, use it as a mask"
      ],
      "metadata": {
        "id": "7yz1c1GN6j2t"
      },
      "execution_count": null,
      "outputs": []
    },
    {
      "cell_type": "code",
      "source": [],
      "metadata": {
        "id": "2DLHHy6-Kfap"
      },
      "execution_count": null,
      "outputs": []
    }
  ]
}