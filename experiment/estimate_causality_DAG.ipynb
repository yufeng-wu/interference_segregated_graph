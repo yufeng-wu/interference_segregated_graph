{
 "cells": [
  {
   "cell_type": "code",
   "execution_count": 7,
   "id": "4d4b88d4",
   "metadata": {},
   "outputs": [],
   "source": [
    "import numpy as np\n",
    "from scipy.special import expit"
   ]
  },
  {
   "cell_type": "code",
   "execution_count": 48,
   "id": "a5151101",
   "metadata": {},
   "outputs": [],
   "source": [
    "N = 500000"
   ]
  },
  {
   "cell_type": "code",
   "execution_count": 49,
   "id": "25c386ee",
   "metadata": {},
   "outputs": [],
   "source": [
    "# generate observed data\n",
    "\n",
    "L = np.random.normal(3, 1, N)\n",
    "A = np.random.binomial(1, expit(2*L), N)\n",
    "Y = np.random.normal(1, 1, N) + 2 * L + 5 * A + 3 * A * L\n"
   ]
  },
  {
   "cell_type": "code",
   "execution_count": 50,
   "id": "5355d7a8",
   "metadata": {},
   "outputs": [],
   "source": [
    "A = np.ones(N)\n",
    "Y_a1 = np.random.normal(1, 1, N) + 2 * L + 5 * A + 3 * A * L"
   ]
  },
  {
   "cell_type": "code",
   "execution_count": 51,
   "id": "cb5e9ad2",
   "metadata": {},
   "outputs": [],
   "source": [
    "A = np.zeros(N)\n",
    "Y_a0 = np.random.normal(1, 1, N) + 2 * L + 5 * A + 3 * A * L"
   ]
  },
  {
   "cell_type": "code",
   "execution_count": 52,
   "id": "111c8087",
   "metadata": {},
   "outputs": [
    {
     "data": {
      "text/plain": [
       "array([26.75183348, 16.91497798, 24.73024623, ..., 20.90509963,\n",
       "       18.63458091, 25.59100943])"
      ]
     },
     "execution_count": 52,
     "metadata": {},
     "output_type": "execute_result"
    }
   ],
   "source": [
    "Y_a1"
   ]
  },
  {
   "cell_type": "code",
   "execution_count": 53,
   "id": "a35fd549",
   "metadata": {},
   "outputs": [
    {
     "data": {
      "text/plain": [
       "array([7.77296143, 6.68899136, 8.90606813, ..., 7.52169992, 6.77921674,\n",
       "       9.0201528 ])"
      ]
     },
     "execution_count": 53,
     "metadata": {},
     "output_type": "execute_result"
    }
   ],
   "source": [
    "Y_a0"
   ]
  },
  {
   "cell_type": "code",
   "execution_count": 54,
   "id": "b43722ae",
   "metadata": {},
   "outputs": [
    {
     "data": {
      "text/plain": [
       "13.995820166397"
      ]
     },
     "execution_count": 54,
     "metadata": {},
     "output_type": "execute_result"
    }
   ],
   "source": [
    "np.mean(Y_a1) - np.mean(Y_a0)"
   ]
  },
  {
   "cell_type": "code",
   "execution_count": null,
   "id": "3519e619",
   "metadata": {},
   "outputs": [],
   "source": []
  }
 ],
 "metadata": {
  "kernelspec": {
   "display_name": "Python 3 (ipykernel)",
   "language": "python",
   "name": "python3"
  },
  "language_info": {
   "codemirror_mode": {
    "name": "ipython",
    "version": 3
   },
   "file_extension": ".py",
   "mimetype": "text/x-python",
   "name": "python",
   "nbconvert_exporter": "python",
   "pygments_lexer": "ipython3",
   "version": "3.10.9"
  }
 },
 "nbformat": 4,
 "nbformat_minor": 5
}
