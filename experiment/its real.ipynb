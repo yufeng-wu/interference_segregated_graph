{
 "cells": [
  {
   "cell_type": "code",
   "execution_count": 6,
   "id": "fbaa0ba3",
   "metadata": {},
   "outputs": [],
   "source": [
    "import numpy as np\n",
    "import pandas as pd\n",
    "import statsmodels.api as sm\n",
    "from scipy.special import expit"
   ]
  },
  {
   "cell_type": "code",
   "execution_count": 2,
   "id": "c18a130a",
   "metadata": {},
   "outputs": [],
   "source": [
    "A = np.random.binomial(1, 0.2, 1000)"
   ]
  },
  {
   "cell_type": "code",
   "execution_count": 7,
   "id": "c209c2a2",
   "metadata": {},
   "outputs": [],
   "source": [
    "B = np.random.binomial(1, expit(0.5 + 2 * A), 1000)"
   ]
  },
  {
   "cell_type": "code",
   "execution_count": 8,
   "id": "7d39db37",
   "metadata": {},
   "outputs": [],
   "source": [
    "C = np.random.binomial(1, expit(1.2 + 0.8 * B), 1000)"
   ]
  },
  {
   "cell_type": "code",
   "execution_count": 9,
   "id": "c5ef0db0",
   "metadata": {},
   "outputs": [],
   "source": [
    "data = pd.DataFrame({\"A\" : A, \"B\": B, \"C\" : C})"
   ]
  },
  {
   "cell_type": "code",
   "execution_count": 13,
   "id": "7cb544e7",
   "metadata": {},
   "outputs": [],
   "source": [
    "model_A = sm.GLM.from_formula(\"A ~ 1\", data, family=sm.families.Binomial()).fit()\n",
    "model_B = sm.GLM.from_formula(\"B ~ A + 1\", data, family=sm.families.Binomial()).fit()\n",
    "model_C = sm.GLM.from_formula(\"C ~ B + 1\", data, family=sm.families.Binomial()).fit()"
   ]
  },
  {
   "cell_type": "code",
   "execution_count": 14,
   "id": "dfd1c029",
   "metadata": {},
   "outputs": [
    {
     "data": {
      "text/plain": [
       "-1487.5681174365795"
      ]
     },
     "execution_count": 14,
     "metadata": {},
     "output_type": "execute_result"
    }
   ],
   "source": [
    "model_A.llf + model_B.llf + model_C.llf"
   ]
  },
  {
   "cell_type": "code",
   "execution_count": 15,
   "id": "5205ae8a",
   "metadata": {},
   "outputs": [],
   "source": [
    "model_C = sm.GLM.from_formula(\"C ~ 1\", data, family=sm.families.Binomial()).fit()\n",
    "model_B = sm.GLM.from_formula(\"B ~ C + 1\", data, family=sm.families.Binomial()).fit()\n",
    "model_A = sm.GLM.from_formula(\"A ~ B + 1\", data, family=sm.families.Binomial()).fit()"
   ]
  },
  {
   "cell_type": "code",
   "execution_count": 16,
   "id": "cbd6625c",
   "metadata": {},
   "outputs": [
    {
     "data": {
      "text/plain": [
       "-1487.5681174365795"
      ]
     },
     "execution_count": 16,
     "metadata": {},
     "output_type": "execute_result"
    }
   ],
   "source": [
    "model_A.llf + model_B.llf + model_C.llf"
   ]
  },
  {
   "cell_type": "code",
   "execution_count": null,
   "id": "e278df67",
   "metadata": {},
   "outputs": [],
   "source": []
  }
 ],
 "metadata": {
  "kernelspec": {
   "display_name": "Python 3 (ipykernel)",
   "language": "python",
   "name": "python3"
  },
  "language_info": {
   "codemirror_mode": {
    "name": "ipython",
    "version": 3
   },
   "file_extension": ".py",
   "mimetype": "text/x-python",
   "name": "python",
   "nbconvert_exporter": "python",
   "pygments_lexer": "ipython3",
   "version": "3.10.9"
  }
 },
 "nbformat": 4,
 "nbformat_minor": 5
}
