{
 "cells": [
  {
   "cell_type": "code",
   "execution_count": 1,
   "id": "449ba598",
   "metadata": {},
   "outputs": [],
   "source": [
    "from util import create_cycle_graph, graph_to_edges\n",
    "from data_generator import sample_from_BG, sample_from_UG\n",
    "from maximal_independent_set import maximal_n_apart_independent_set\n",
    "from scipy.special import expit\n",
    "from scipy.optimize import minimize\n",
    "from scipy.stats import chi2\n",
    "import numpy as np\n",
    "import pandas as pd\n",
    "import matplotlib.pyplot as plt\n",
    "import sys"
   ]
  },
  {
   "cell_type": "code",
   "execution_count": 2,
   "id": "27c88cb4",
   "metadata": {},
   "outputs": [],
   "source": [
    "NUM_OF_VERTICES = 10000\n",
    "BURN_IN_PERIOD = 200\n",
    "\n",
    "\n",
    "''' STEP 1: Greate graph '''\n",
    "graph = create_cycle_graph(NUM_OF_VERTICES)"
   ]
  },
  {
   "cell_type": "code",
   "execution_count": 5,
   "id": "ac58740f",
   "metadata": {},
   "outputs": [],
   "source": [
    "def U_dist():\n",
    "    '''\n",
    "    Define the distribution: U ~ U_dist.\n",
    "    '''\n",
    "    return np.random.normal(0, 1)\n",
    "\n",
    "def f(U_values):\n",
    "    '''\n",
    "    Define the function f that calculates V based on its neighboring U values\n",
    "    and returns a binary value.\n",
    "    '''\n",
    "    # noise = np.random.normal(0, 0.1)\n",
    "    linear_sum = 3 * sum(U_values) # + noise\n",
    "    prob = expit(linear_sum)  # Sigmoid function to get a value between 0 and 1\n",
    "    return np.random.binomial(1, prob)  # Sample from a Bernoulli distribution\n",
    "\n",
    "sample_BG = sample_from_BG(edges=graph_to_edges(graph), \n",
    "                               U_dist=U_dist, \n",
    "                               f=f)"
   ]
  },
  {
   "cell_type": "code",
   "execution_count": 8,
   "id": "269acfc3",
   "metadata": {},
   "outputs": [],
   "source": [
    "ind_set = maximal_n_apart_independent_set(graph, \n",
    "                                          n=5, \n",
    "                                          available_vertices=set(graph.keys()),\n",
    "                                          approx=True,\n",
    "                                          is_cycle_graph=True)"
   ]
  },
  {
   "cell_type": "code",
   "execution_count": null,
   "id": "114b9f1d",
   "metadata": {},
   "outputs": [],
   "source": [
    "def prepare_data(dataset, ind_set):\n",
    "    '''\n",
    "    Prepare data from dataset using ind_set into the forat below. \n",
    "    Each vertex in ind_set should take one row in the output dataframe.\n",
    "    \n",
    "    Output format:\n",
    "    \n",
    "    | vertex_id | value | count_nb_value_is_1 | count_nb_value_is_0 | count_nbnb_value_is_1 | count_nbnb_value_is_0 |\n",
    "    |  (int)    | 1/0   | (int)               | (int)               | (int)                 | (int)                 |\n",
    "    '''"
   ]
  }
 ],
 "metadata": {
  "kernelspec": {
   "display_name": "Python 3 (ipykernel)",
   "language": "python",
   "name": "python3"
  },
  "language_info": {
   "codemirror_mode": {
    "name": "ipython",
    "version": 3
   },
   "file_extension": ".py",
   "mimetype": "text/x-python",
   "name": "python",
   "nbconvert_exporter": "python",
   "pygments_lexer": "ipython3",
   "version": "3.10.9"
  }
 },
 "nbformat": 4,
 "nbformat_minor": 5
}
