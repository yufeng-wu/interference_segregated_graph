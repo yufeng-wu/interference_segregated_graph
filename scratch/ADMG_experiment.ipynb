{
 "cells": [
  {
   "cell_type": "code",
   "execution_count": 3,
   "id": "8a9a9a47",
   "metadata": {},
   "outputs": [
    {
     "name": "stderr",
     "output_type": "stream",
     "text": [
      "INFO:numexpr.utils:NumExpr defaulting to 4 threads.\n"
     ]
    }
   ],
   "source": [
    "from ananke.graphs import ADMG\n",
    "from ananke.models import LinearGaussianSEM\n",
    "import numpy as np\n",
    "import pandas as pd"
   ]
  },
  {
   "cell_type": "code",
   "execution_count": 4,
   "id": "cc63e228",
   "metadata": {},
   "outputs": [],
   "source": [
    "U1 = np.random.normal(0, 1, 1000)\n",
    "U2 = np.random.normal(0, 0.2, 1000)\n",
    "A = np.random.normal(0, 1, 1000) + 2 * U1\n",
    "B = np.random.normal(0, 1, 1000) + 0.5 * U1 + 3 * U2\n",
    "C = np.random.normal(0, 1, 1000) + 0.8 * U2"
   ]
  },
  {
   "cell_type": "code",
   "execution_count": 5,
   "id": "b20914fc",
   "metadata": {},
   "outputs": [],
   "source": [
    "data = pd.DataFrame({\"A\" : A, \"B\": B, \"C\" : C})"
   ]
  },
  {
   "cell_type": "code",
   "execution_count": 7,
   "id": "11d675a2",
   "metadata": {},
   "outputs": [],
   "source": [
    "data = (data - np.mean(data, axis=0)) / np.std(data, axis=0)"
   ]
  },
  {
   "cell_type": "code",
   "execution_count": 9,
   "id": "802890d0",
   "metadata": {},
   "outputs": [],
   "source": [
    "G1 = ADMG(['A', 'B', 'C'], bi_edges=[('A', 'B'), ('B', 'C')])"
   ]
  },
  {
   "cell_type": "code",
   "execution_count": 11,
   "id": "e0b5da86",
   "metadata": {},
   "outputs": [
    {
     "data": {
      "text/plain": [
       "<ananke.models.linear_gaussian_sem.LinearGaussianSEM at 0x7fdaf81782e0>"
      ]
     },
     "execution_count": 11,
     "metadata": {},
     "output_type": "execute_result"
    }
   ],
   "source": [
    "model1 = LinearGaussianSEM(G1)\n",
    "model1.fit(data)"
   ]
  },
  {
   "cell_type": "code",
   "execution_count": 15,
   "id": "08c1a32a",
   "metadata": {},
   "outputs": [
    {
     "data": {
      "text/plain": [
       "2906.085508711833"
      ]
     },
     "execution_count": 15,
     "metadata": {},
     "output_type": "execute_result"
    }
   ],
   "source": [
    "model1.bic(data)"
   ]
  },
  {
   "cell_type": "code",
   "execution_count": 17,
   "id": "84cd1096",
   "metadata": {},
   "outputs": [],
   "source": [
    "G2 = ADMG(['A', 'B', 'C'], di_edges=[('A', 'B'), ('C', 'B')])"
   ]
  },
  {
   "cell_type": "code",
   "execution_count": 18,
   "id": "e6f445ce",
   "metadata": {},
   "outputs": [
    {
     "data": {
      "text/plain": [
       "<ananke.models.linear_gaussian_sem.LinearGaussianSEM at 0x7fdaf81732e0>"
      ]
     },
     "execution_count": 18,
     "metadata": {},
     "output_type": "execute_result"
    }
   ],
   "source": [
    "model2 = LinearGaussianSEM(G2)\n",
    "model2.fit(data)"
   ]
  },
  {
   "cell_type": "code",
   "execution_count": 19,
   "id": "b2eecfd7",
   "metadata": {},
   "outputs": [
    {
     "data": {
      "text/plain": [
       "2906.0844154817896"
      ]
     },
     "execution_count": 19,
     "metadata": {},
     "output_type": "execute_result"
    }
   ],
   "source": [
    "model2.bic(data)"
   ]
  },
  {
   "cell_type": "code",
   "execution_count": null,
   "id": "6944a4f3",
   "metadata": {},
   "outputs": [],
   "source": []
  }
 ],
 "metadata": {
  "kernelspec": {
   "display_name": "Python 3 (ipykernel)",
   "language": "python",
   "name": "python3"
  },
  "language_info": {
   "codemirror_mode": {
    "name": "ipython",
    "version": 3
   },
   "file_extension": ".py",
   "mimetype": "text/x-python",
   "name": "python",
   "nbconvert_exporter": "python",
   "pygments_lexer": "ipython3",
   "version": "3.10.9"
  }
 },
 "nbformat": 4,
 "nbformat_minor": 5
}
