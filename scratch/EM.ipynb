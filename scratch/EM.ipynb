{
 "cells": [
  {
   "cell_type": "code",
   "execution_count": 2,
   "metadata": {},
   "outputs": [],
   "source": [
    "# Implementing the EM algorithm\n",
    "\n",
    "import numpy as np \n",
    "from scipy.optimize import minimize"
   ]
  },
  {
   "cell_type": "code",
   "execution_count": 56,
   "metadata": {},
   "outputs": [],
   "source": [
    "# U -> X\n",
    "\n",
    "def generate_data(n_samples=1000):\n",
    "    U = np.random.binomial(1, 0.3, n_samples) # params[0]\n",
    "    X = np.random.binomial(1, 0.8 * U, n_samples) # params[2]\n",
    "    return U, X   "
   ]
  },
  {
   "cell_type": "code",
   "execution_count": 57,
   "metadata": {},
   "outputs": [],
   "source": [
    "U, X = generate_data()"
   ]
  },
  {
   "cell_type": "code",
   "execution_count": 62,
   "metadata": {},
   "outputs": [],
   "source": [
    "def p_zx_w_theta(z, x_i, params):\n",
    "    '''\n",
    "    p(x, z; theta)\n",
    "    '''\n",
    "    p = (z*params[0] + (1-z)*(1-params[0])) * \\\n",
    "        (x_i*(params[1]*z) + (1-x_i)*(1-(params[1]*z)))\n",
    "    print(p)\n",
    "    return p\n",
    "\n",
    "def Q_i(z_i, x_i, params):\n",
    "    '''\n",
    "    A function of z_i: p(z_i | x_i; theta)\n",
    "    '''\n",
    "    numerator = p_zx_w_theta(z_i, x_i, params)\n",
    "    denominator = p_zx_w_theta(0, x_i, params) + p_zx_w_theta(1, x_i, params)\n",
    "    \n",
    "    return numerator / denominator"
   ]
  },
  {
   "cell_type": "code",
   "execution_count": 63,
   "metadata": {},
   "outputs": [],
   "source": [
    "def nll(params, X):\n",
    "    ll = 0\n",
    "    for x_i in X:\n",
    "        for z_i in [0, 1]:\n",
    "            Q_i_output = Q_i(z_i, x_i, params)\n",
    "#             print(\"qioutput:\", Q_i_output)\n",
    "#             print(\"p_zx_w_theta(z_i, x_i, params):\", p_zx_w_theta(z_i, x_i, params))\n",
    "            ll += Q_i_output * np.log(1e-8+p_zx_w_theta(z_i, x_i, params) / Q_i_output)\n",
    "    return -ll"
   ]
  },
  {
   "cell_type": "code",
   "execution_count": null,
   "metadata": {},
   "outputs": [],
   "source": [
    "params = np.random.uniform(0, 1, 2)\n",
    "for i in range(10):\n",
    "    # E-step: Calculate expected values of latent variables\n",
    "    # (Incorporate into the NLL function or separately if needed)\n",
    "\n",
    "    # M-step: Update parameter estimates\n",
    "    result = minimize(nll, x0=params, args=(X), method='L-BFGS-B', bounds=[(0, 1), (0, 1)])\n",
    "    params = result.x"
   ]
  },
  {
   "cell_type": "code",
   "execution_count": 66,
   "metadata": {},
   "outputs": [
    {
     "data": {
      "text/plain": [
       "array([0.34097284, 0.51491084])"
      ]
     },
     "execution_count": 66,
     "metadata": {},
     "output_type": "execute_result"
    }
   ],
   "source": [
    "params"
   ]
  },
  {
   "cell_type": "code",
   "execution_count": null,
   "metadata": {},
   "outputs": [],
   "source": []
  },
  {
   "cell_type": "code",
   "execution_count": null,
   "metadata": {},
   "outputs": [],
   "source": []
  }
 ],
 "metadata": {
  "kernelspec": {
   "display_name": "Python 3 (ipykernel)",
   "language": "python",
   "name": "python3"
  },
  "language_info": {
   "codemirror_mode": {
    "name": "ipython",
    "version": 3
   },
   "file_extension": ".py",
   "mimetype": "text/x-python",
   "name": "python",
   "nbconvert_exporter": "python",
   "pygments_lexer": "ipython3",
   "version": "3.10.9"
  }
 },
 "nbformat": 4,
 "nbformat_minor": 2
}
